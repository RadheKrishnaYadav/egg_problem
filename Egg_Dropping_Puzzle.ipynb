{
 "cells": [
  {
   "cell_type": "code",
   "execution_count": 17,
   "metadata": {},
   "outputs": [],
   "source": [
    "import sys\n",
    "def eggproblem(n,k):#where n is the number of eggs and k is the number of floors\n",
    "    floor=[[0]*(k+1) for i in range(n+1)]\n",
    "    #For 1 floor and zero floor we would need 1 and zero trial respectively irrespective of number of eggs\n",
    "    for i in range(1,n+1):\n",
    "        floor[i][0]=0\n",
    "        floor[i][1]=1\n",
    "    #for j floors with 1 egg we would need j trials in the worst case\n",
    "    for i in range(1,k+1):\n",
    "        floor[1][i]=i\n",
    "        \n",
    "    for i in range(2,n+1):\n",
    "        for j in range(2,k+1):\n",
    "            floor[i][j]=sys.maxsize\n",
    "            for x in range(1,j+1):\n",
    "                res=1+max(floor[i-1][x-1],floor[i][j-x])\n",
    "                if(res<floor[i][j]):\n",
    "                    floor[i][j]=res\n",
    "    \n",
    "            \n",
    "    return floor[n][k]\n"
   ]
  },
  {
   "cell_type": "code",
   "execution_count": 18,
   "metadata": {},
   "outputs": [
    {
     "data": {
      "text/plain": [
       "9223372036854775807"
      ]
     },
     "execution_count": 18,
     "metadata": {},
     "output_type": "execute_result"
    }
   ],
   "source": [
    "import sys\n",
    "sys.maxsize"
   ]
  },
  {
   "cell_type": "code",
   "execution_count": 19,
   "metadata": {},
   "outputs": [
    {
     "data": {
      "text/plain": [
       "14"
      ]
     },
     "execution_count": 19,
     "metadata": {},
     "output_type": "execute_result"
    }
   ],
   "source": [
    "eggproblem(2,100)"
   ]
  },
  {
   "cell_type": "code",
   "execution_count": 21,
   "metadata": {},
   "outputs": [
    {
     "data": {
      "text/plain": [
       "8"
      ]
     },
     "execution_count": 21,
     "metadata": {},
     "output_type": "execute_result"
    }
   ],
   "source": [
    "eggproblem(2,36)"
   ]
  }
 ],
 "metadata": {
  "kernelspec": {
   "display_name": "Python 3",
   "language": "python",
   "name": "python3"
  },
  "language_info": {
   "codemirror_mode": {
    "name": "ipython",
    "version": 3
   },
   "file_extension": ".py",
   "mimetype": "text/x-python",
   "name": "python",
   "nbconvert_exporter": "python",
   "pygments_lexer": "ipython3",
   "version": "3.6.9"
  }
 },
 "nbformat": 4,
 "nbformat_minor": 2
}
